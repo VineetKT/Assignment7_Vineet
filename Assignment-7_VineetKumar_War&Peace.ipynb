{
 "cells": [
  {
   "cell_type": "code",
   "execution_count": 1,
   "metadata": {},
   "outputs": [],
   "source": [
    "import tensorflow as tf\n",
    "import numpy as np"
   ]
  },
  {
   "cell_type": "code",
   "execution_count": 2,
   "metadata": {},
   "outputs": [],
   "source": [
    "# Parameters for model\n",
    "max_len = 40\n",
    "units = 128\n",
    "learning_rate = 0.001\n",
    "batch_size = 200\n",
    "epoch = 10\n",
    "temp = 0.5"
   ]
  },
  {
   "cell_type": "code",
   "execution_count": 3,
   "metadata": {},
   "outputs": [],
   "source": [
    "def reading_of_data(file_name):\n",
    "# Function to read input text file and to convert into lower letter\n",
    "    text = open(file_name, 'r').read()\n",
    "    return text.lower()"
   ]
  },
  {
   "cell_type": "code",
   "execution_count": 4,
   "metadata": {},
   "outputs": [],
   "source": [
    "def Proccessing_for_Dataset(text):\n",
    "# Function to convert text data into train and label fomrat\n",
    "    unique_chars = list(set(text))\n",
    "    len_unique_chars = len(unique_chars)\n",
    "\n",
    "    input_chars = []\n",
    "    output_char = []\n",
    "\n",
    "    for i in range(0, len(text) - max_len, 2):\n",
    "        input_chars.append(text[i:i+max_len])\n",
    "        output_char.append(text[i+max_len])\n",
    "\n",
    "    train_data = np.zeros((len(input_chars), max_len, len_unique_chars))\n",
    "    target_data = np.zeros((len(input_chars), len_unique_chars))\n",
    "\n",
    "    for i , each in enumerate(input_chars):\n",
    "        for j, char in enumerate(each):\n",
    "            train_data[i, j, unique_chars.index(char)] = 1\n",
    "        target_data[i, unique_chars.index(output_char[i])] = 1\n",
    "    return train_data, target_data, unique_chars, len_unique_chars"
   ]
  },
  {
   "cell_type": "code",
   "execution_count": 5,
   "metadata": {},
   "outputs": [],
   "source": [
    "def RNN_LSTM_model(x, weight, bias, len_unique_chars):\n",
    "# RNN model and predictions\n",
    "    x = tf.transpose(x, [1, 0, 2])\n",
    "    x = tf.reshape(x, [-1, len_unique_chars])\n",
    "    x = tf.split(x, max_len, 0)\n",
    "\n",
    "    cell = tf.contrib.rnn.BasicLSTMCell(units, forget_bias=1.0)\n",
    "    outputs, states = tf.contrib.rnn.static_rnn(cell, x, dtype=tf.float32)\n",
    "    prediction = tf.matmul(outputs[-1], weight) + bias\n",
    "    return prediction"
   ]
  },
  {
   "cell_type": "code",
   "execution_count": 6,
   "metadata": {},
   "outputs": [],
   "source": [
    "def Probability_of_sample(predicted):\n",
    "# Function to extract indeces from probability array\n",
    "    exp_pred = np.exp(predicted/temp)\n",
    "    predicted = exp_pred / np.sum(exp_pred)\n",
    "    prob = np.random.multinomial(1, predicted, 1)\n",
    "    return prob"
   ]
  },
  {
   "cell_type": "code",
   "execution_count": 7,
   "metadata": {},
   "outputs": [],
   "source": [
    "def Training_and_Generation_of_Text(train_data, target_data, unique_chars, len_unique_chars):\n",
    "    \n",
    "    # Initializing placeholder for input data\n",
    "    x = tf.placeholder(\"float\", [None, max_len, len_unique_chars])\n",
    "    y = tf.placeholder(\"float\", [None, len_unique_chars])\n",
    "    \n",
    "    # Weight inintialization \n",
    "    weight = tf.Variable(tf.random_normal([units, len_unique_chars]))\n",
    "    bias = tf.Variable(tf.random_normal([len_unique_chars]))\n",
    "\n",
    "    # Prediction using LSTM model\n",
    "    prediction = RNN_LSTM_model(x, weight, bias, len_unique_chars)\n",
    "    softmax = tf.nn.softmax_cross_entropy_with_logits(logits=prediction, labels=y)\n",
    "    cost = tf.reduce_mean(softmax)\n",
    "    optimizer = tf.train.RMSPropOptimizer(learning_rate=learning_rate).minimize(cost)\n",
    "\n",
    "    init_op = tf.global_variables_initializer()\n",
    "    \n",
    "    # start of tensorflow session\n",
    "    sess = tf.Session()\n",
    "    sess.run(init_op)\n",
    "\n",
    "    num_batches = int(len(train_data)/batch_size)\n",
    "\n",
    "    for i in range(epoch):\n",
    "        print (\"Epoch no:- {0} of {1} is generated below:\".format(i+1, epoch))\n",
    "        count = 0\n",
    "        for _ in range(num_batches):\n",
    "            train_batch, target_batch = train_data[count:count+batch_size], target_data[count:count+batch_size]\n",
    "            count += batch_size\n",
    "            sess.run([optimizer] ,feed_dict={x:train_batch, y:target_batch})\n",
    "\n",
    "        # inserting a seed for generation\n",
    "        seed = train_batch[:1:]\n",
    "\n",
    "        # Seed is given as\n",
    "        seed_chars = ''\n",
    "        for each in seed[0]:\n",
    "                seed_chars += unique_chars[np.where(each == max(each))[0][0]]\n",
    "        print (\"Seeding character is:\", seed_chars)\n",
    "\n",
    "        # Prediction of next 1000 characters\n",
    "        for i in range(1000):\n",
    "            if i > 0:\n",
    "                remove_fist_char = seed[:,1:,:]\n",
    "                seed = np.append(remove_fist_char, np.reshape(probabilities, [1, 1, len_unique_chars]), axis=1)\n",
    "            predicted = sess.run([prediction], feed_dict = {x:seed})\n",
    "            predicted = np.asarray(predicted[0]).astype('float64')[0]\n",
    "            probabilities = Probability_of_sample(predicted)\n",
    "            predicted_chars = unique_chars[np.argmax(probabilities)]\n",
    "            seed_chars += predicted_chars\n",
    "        print ('Generated Text is given below after seed character:', seed_chars)\n",
    "    sess.close()"
   ]
  },
  {
   "cell_type": "code",
   "execution_count": 8,
   "metadata": {},
   "outputs": [
    {
     "data": {
      "text/plain": [
       "3196213"
      ]
     },
     "execution_count": 8,
     "metadata": {},
     "output_type": "execute_result"
    }
   ],
   "source": [
    "ln = len(reading_of_data(\"warpeace_input.txt\"))\n",
    "ln"
   ]
  },
  {
   "cell_type": "code",
   "execution_count": 9,
   "metadata": {},
   "outputs": [
    {
     "name": "stdout",
     "output_type": "stream",
     "text": [
      "WARNING:tensorflow:From /home/vinitkumar/.local/lib/python3.6/site-packages/tensorflow/python/framework/op_def_library.py:263: colocate_with (from tensorflow.python.framework.ops) is deprecated and will be removed in a future version.\n",
      "Instructions for updating:\n",
      "Colocations handled automatically by placer.\n",
      "\n",
      "WARNING: The TensorFlow contrib module will not be included in TensorFlow 2.0.\n",
      "For more information, please see:\n",
      "  * https://github.com/tensorflow/community/blob/master/rfcs/20180907-contrib-sunset.md\n",
      "  * https://github.com/tensorflow/addons\n",
      "If you depend on functionality not listed there, please file an issue.\n",
      "\n",
      "WARNING:tensorflow:From <ipython-input-5-f02c8ee52b32>:7: BasicLSTMCell.__init__ (from tensorflow.python.ops.rnn_cell_impl) is deprecated and will be removed in a future version.\n",
      "Instructions for updating:\n",
      "This class is equivalent as tf.keras.layers.LSTMCell, and will be replaced by that in Tensorflow 2.0.\n",
      "WARNING:tensorflow:From <ipython-input-5-f02c8ee52b32>:8: static_rnn (from tensorflow.python.ops.rnn) is deprecated and will be removed in a future version.\n",
      "Instructions for updating:\n",
      "Please use `keras.layers.RNN(cell, unroll=True)`, which is equivalent to this API\n",
      "WARNING:tensorflow:From <ipython-input-7-0cac3f138c3b>:13: softmax_cross_entropy_with_logits (from tensorflow.python.ops.nn_ops) is deprecated and will be removed in a future version.\n",
      "Instructions for updating:\n",
      "\n",
      "Future major versions of TensorFlow will allow gradients to flow\n",
      "into the labels input on backprop by default.\n",
      "\n",
      "See `tf.nn.softmax_cross_entropy_with_logits_v2`.\n",
      "\n",
      "Epoch no:- 1 of 10 is generated below:\n",
      "Seeding character is: oue que votre victoire\n",
      "n'est pas des plu\n",
      "Generated Text is given below after seed character: oue que votre victoire\n",
      "n'est pas des plundes of of the porened the mand the wand ald of the rom mereand was and war sared fore deow an wist and on the wither fice aprolked was\n",
      "provenin whou he was whis decain to the chised and be the walle of the hes was dore wothe coured to whal of to th of come now the ind wile her wis ou the reme with whe and he he wally he warcered was the salle to the che sulled wor dont of the his aicling of the merit ont ous in ware he pressing an wis of the sorind was the waly of enirr montinge the soren wor, and wellored withe sores of the hus rouplinge f che sand rouss of romery shack soughe sourt and and en the mastinis sof ifcered and he cereding the soves the sary wer fithe ratthe wat the was and and ant of har pronsed of the sipperes ous in whe harme victring with his cound and was he the surece anded bfice and merencas on th whe he the rerand bo the sous, and and the lof in wasto the wing camed and on the cored and on is of of he sald to the moolle, and red allingis of the counte ffremere tore\n",
      "Epoch no:- 2 of 10 is generated below:\n",
      "Seeding character is: oue que votre victoire\n",
      "n'est pas des plu\n",
      "Generated Text is given below after seed character: oue que votre victoire\n",
      "n'est pas des plunted who have the sonners wout and he have of the sicled and his his and an the sorost of the his his the frees and and the wall an she mound and in he sad be the was leat of the\n",
      "stien who doun by the wosten with he save him sisting on the wost coring more woll whe he asers, and he was of the grimasty to the ressime and the and he was to treap to and went in the hing ast proans wer and wis he stoust of he fien\n",
      "with mall the shere fillov was love the pronceded was he sainged the were the was be the spenining was in hes carte fore he was he saided nos and in as the was of the\n",
      "stoof the sartiger and the restore, and he brinced be the fare hew of the sall and and the restone the said fromed of the the rangian\n",
      "\n",
      "the genter and rerimentrent bat with as preway of he hess and the visting on the roun! and whith smesting of he selace sow the contits in more, an the priles of the his he mand of the sore and he sinceraly was the was cond were the his saching an the coree here the silere and and way\n",
      "Epoch no:- 3 of 10 is generated below:\n",
      "Seeding character is: oue que votre victoire\n",
      "n'est pas des plu\n",
      "Generated Text is given below after seed character: oue que votre victoire\n",
      "n'est pas des plussing his sofere cormanter how was wey and and prepparing his sacters of alloke with a preave, and but sain the millered the sand on the was he was a the pression of he was allesely.\n",
      "\n",
      "ressiof and in the said and he prince on the hisserant or the some and he silles of he was the store his of the knewar were and the denes of he maling he was all whe daning and his the his all were the onfire were freemsatly breaced he was a was be the pencession were mester the his freched ont he whe had not firroung ressing with his nece fille of the mant and the now the mad tring on the shisterat the prince and his\n",
      "fien and rask\n",
      "and to the and ression wosking the pronce and which was was at on then hes depe fich erencing to ther benaty in of hes way a wall and was the still spriat of of the wast ster appienters who woof andimant the stille prince and he wisher with the preare of the said the with a the cantery of the miding he well of the prearted and the eresiffing to he here he which a farter and a f\n",
      "Epoch no:- 4 of 10 is generated below:\n",
      "Seeding character is: oue que votre victoire\n",
      "n'est pas des plu\n",
      "Generated Text is given below after seed character: oue que votre victoire\n",
      "n'est pas des plussed of the story he head of in the withe were celary the smiling at ene at the stringed a sunder and went of the smile to he was forting on the armile sourd out the bringed his sace all vich and aw his hand as the smill of the froming and he was the was the stare the sout seroved and he said a cumpation on the knews whes reside and the your the sad the sorlies in has peen and the oner my bet fore the whinkers and ant was the preaced to dining with the diging with his had follones. he has sore and room of his face of the prowned and he prounter of the wastre were but to diditire and with a way seching and he fall whe prince and was of the mand abound the forriger whowe and teen a she said the sade wese and steres and the sidined and sillang\n",
      "he was and expersing his fros and a menting and the risting apperaine of he with a manter and he was and the with his\n",
      "canter and expenting the grancer and the part of the till the read he went be and spees in the\n",
      "braint restover were as a the still \n",
      "Epoch no:- 5 of 10 is generated below:\n",
      "Seeding character is: oue que votre victoire\n",
      "n'est pas des plu\n",
      "Generated Text is given below after seed character: oue que votre victoire\n",
      "n'est pas des plunce ander the minter much and were to and the the parle of mones of the rempors of whe was save le the strate he was senis of the stering to pire on the was sail he had and the prince and with his fren me prince andrew of the wore of the sifficer were to not the restion of his caret and reploat he with a was all in a was yout for of the was all were the gear of the prince and were his and on he was arrid ant the plance and ence of expraints and in a face firment and enter able surded and a mill and his his concession of the was and he were and happered his sade of his eres of the round and regined to the mins was she wasked an his had chere he went of the prince andrew and reseiter with alle wortent and eressing whome as the misting of the ding and seen so hone. a sall gear of here as an the prince or the was and were wert to the the ready and some in he gene of the like him the fare of out renisovas, and the stering and becain of the waster with\n",
      "a cromery the princiss and the firrant \n",
      "Epoch no:- 6 of 10 is generated below:\n",
      "Seeding character is: oue que votre victoire\n",
      "n'est pas des plu\n",
      "Generated Text is given below after seed character: oue que votre victoire\n",
      "n'est pas des plunked at a shement to aster him by dien and in and he frot came and explession of the saice of the with a man of the officers was the was as if a cant and from and the with a milent anno the partion and he was a mussiant and his all gent and in her had now sent me his to not of the finter of the was saited his rechien the man which sencing the from and to the with hin aller at he without erestimently, resming\n",
      "without to\n",
      "like and was spencing but the disking with him he was armived and he were he had to and were been an the semine and sery of the mance of the has were from he was gear of bread in a fere and and ant he was in a inviciry in becked in peckeas of the first was a panted the conets on the more his head a sidents of his and and more and he with a men restion\n",
      "were and appession on the prince on his was conterald the hament with a mone and he was armigent and some of whe was been and all at a smile of the squarring room him he was soid to the prince and the\n",
      "courters man by the si\n",
      "Epoch no:- 7 of 10 is generated below:\n"
     ]
    },
    {
     "name": "stdout",
     "output_type": "stream",
     "text": [
      "Seeding character is: oue que votre victoire\n",
      "n'est pas des plu\n",
      "Generated Text is given below after seed character: oue que votre victoire\n",
      "n'est pas des plussing word, and to me was he weited with a\n",
      "prince andrew to one he with with a chees with a with the firen and had he still he was are the string or the the of when she were the ressian compartion when he were and soling in all as he say he was a centining the room was he went and the retime of the with a manche the his was aid and the disticarly from thembers and a she the was ness on firre looked to fiends of his down the reading and had he and he prince and without with whech and he was armided an the his on of the dinging of the fient and he was a contertion of the stance of the done of the without and whowe were he wishout the ment the with a crose the prince and ment the mone reserved of his was all were in my prince andrew sond his denision\n",
      "comeas who were at his way a repleasing who was are capparing of the more firme the senvits and an her his lighted to nick and the stick of the without to the with a way a mose compander and he was he went resmided to prince andrew he say one\n",
      "Epoch no:- 8 of 10 is generated below:\n",
      "Seeding character is: oue que votre victoire\n",
      "n'est pas des plu\n",
      "Generated Text is given below after seed character: oue que votre victoire\n",
      "n'est pas des plup a most was not were at the smiling rape of the recint reall chouldered the most was about feen and\n",
      "her french sures of the man of the distrance to the was and rostov and and the stery old ressian chiefly of the officers of the drewiff langing and stopped him on his army on the his was not the ging of his nickare the been a reen was a seemed of when he was not and and he face\n",
      "capered to the\n",
      "prince and was a sometion\n",
      "whished and he were on the renisunt. pressing to he was here from the said and\n",
      "he wasted and was amparing to the without\n",
      "and was in anchiral the offer the wancher and were him into the foots were of the light of the firly were the stratter a most be whe had not becaused and was about delike at the first room and ence of the\n",
      "mone of the one which were at there worde and he prossed arounder and he with a prince and scoped in her had something with a marmed to mome of the said of her his face and rostov from he was kening her frinch and was he was allowed the his officer of a\n",
      "Epoch no:- 9 of 10 is generated below:\n",
      "Seeding character is: oue que votre victoire\n",
      "n'est pas des plu\n",
      "Generated Text is given below after seed character: oue que votre victoire\n",
      "n'est pas des plussing his handsey began to the first was a reand and he were to him and evidently was he were the armileste of the officer and the ampary ferm with a way to the distovisen and in the reament with a call of the windor of his restract to the withort\n",
      "army desting to repert himself teem and solentes were sentently he was even stirned the squadres his heads in the mine when his only heart in the miluter my have on the same of the mont so me of the was len of the mone were on the without who was a chose how a the form were bread and he was ecent un the pather would could conviners, and he was armiled at his army of the sare of the down of the mistery of the some of the done of the ender of the monser courder of the coldiers how dean of the was as some of the winds were to the band repertance and were and his hand went in his happaye of the mone of the room. the must was ad beca\n",
      "me into the flench\n",
      "have to may in one who well, get and defficed his was army resprain the fin my was been and the \n",
      "Epoch no:- 10 of 10 is generated below:\n",
      "Seeding character is: oue que votre victoire\n",
      "n'est pas des plu\n",
      "Generated Text is given below after seed character: oue que votre victoire\n",
      "n'est pas des plunced and his face of the soment whomed with a mant of the reament to behind of the mone him was a pleased and the might reat rostov aftered his form and the feench and of the\n",
      "dappers at his form and he went and stread came to the siment who was he wasked in a clease of the straid the smile of the lipt in his yound of his handsent and he was not were and as he weal without the same of the done me the bridge of the conversait the moment by the frone of the way a comeas to have the brid of the room of her bringed encepsed his not one of right of the will apprain from the conered and army to the bride. they well were the denist was a siling and he well kerused as one of the reach general what he was not know the the mush and he was ression cale to be downed the fronger and which a propers of the manter of the first the restrain what he was not resmiled and prected and the pavere of the partors and enter one and at the settern and about he was of the his man he went everything to the anter \n"
     ]
    }
   ],
   "source": [
    "#Importing input text datset in the main function    \n",
    "reduced_ln = int(ln*0.12)\n",
    "data = reading_of_data('warpeace_input.txt')[:reduced_ln]\n",
    "train_data, target_data, unique_chars, len_unique_chars = Proccessing_for_Dataset(data)\n",
    "Training_and_Generation_of_Text(train_data, target_data, unique_chars, len_unique_chars)"
   ]
  },
  {
   "cell_type": "code",
   "execution_count": null,
   "metadata": {},
   "outputs": [],
   "source": []
  }
 ],
 "metadata": {
  "kernelspec": {
   "display_name": "Python 3",
   "language": "python",
   "name": "python3"
  },
  "language_info": {
   "codemirror_mode": {
    "name": "ipython",
    "version": 3
   },
   "file_extension": ".py",
   "mimetype": "text/x-python",
   "name": "python",
   "nbconvert_exporter": "python",
   "pygments_lexer": "ipython3",
   "version": "3.6.7"
  }
 },
 "nbformat": 4,
 "nbformat_minor": 2
}
